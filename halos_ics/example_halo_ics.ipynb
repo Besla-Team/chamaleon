{
 "cells": [
  {
   "cell_type": "code",
   "execution_count": 42,
   "metadata": {},
   "outputs": [
    {
     "name": "stdout",
     "output_type": "stream",
     "text": [
      "Populating the interactive namespace from numpy and matplotlib\n"
     ]
    }
   ],
   "source": [
    "%pylab inline\n",
    "import jellyfish"
   ]
  },
  {
   "cell_type": "code",
   "execution_count": 171,
   "metadata": {},
   "outputs": [],
   "source": [
    "halo_hernquist = np.genfromtxt('../halos_ics/test_hernquist.txt')"
   ]
  },
  {
   "cell_type": "code",
   "execution_count": 165,
   "metadata": {
    "collapsed": true
   },
   "outputs": [],
   "source": [
    "halo_nfw = np.genfromtxt('../halos_ics/test_nfw.txt')"
   ]
  },
  {
   "cell_type": "code",
   "execution_count": 172,
   "metadata": {
    "collapsed": true
   },
   "outputs": [],
   "source": [
    "def rho_enclosed(pos, mass, rmin=0, rmax=100, nbins=30):\n",
    "    \"\"\"\n",
    "    Compute the density profile of a given galaxy component\n",
    "    Input:\n",
    "    ------\n",
    "    rmin : float\n",
    "        Minimum radius to compute the density profile (default=0).\n",
    "    rmax : float\n",
    "        Maximum radius to compute the density profile (default=300)\n",
    "    nbins : int\n",
    "        Number of radial bins to compute the density profile.\n",
    "    Output:\n",
    "    ------\n",
    "    r : numpy 1D array.\n",
    "        Array with the radial bins.\n",
    "    rho : numpy array.\n",
    "        Array with the density in each radial bin.\n",
    "    \"\"\"\n",
    "    r_pos = np.sqrt(pos[:,0]**2 + pos[:,1]**2 + pos[:,2]**2)\n",
    "\n",
    "    r = np.logspace(0, np.log10(rmax), nbins-1)\n",
    "\n",
    "    rho = np.zeros(nbins-1)\n",
    "\n",
    "    # Loop over the radial bins.\n",
    "    for i in range(1, len(r)):\n",
    "        indexh = np.where((r_pos<r[i]) & (r_pos>r[i-1]))[0]\n",
    "        rho[i-1]=3*len(indexh)/(4*np.pi*(r[i]**3))\n",
    "    return r, rho"
   ]
  },
  {
   "cell_type": "code",
   "execution_count": 147,
   "metadata": {},
   "outputs": [
    {
     "data": {
      "text/plain": [
       "0.99999999999999811"
      ]
     },
     "execution_count": 147,
     "metadata": {},
     "output_type": "execute_result"
    }
   ],
   "source": [
    "sum(halo_hernquist[:,3])"
   ]
  },
  {
   "cell_type": "code",
   "execution_count": 173,
   "metadata": {
    "collapsed": true
   },
   "outputs": [],
   "source": [
    "r, rho = rho_enclosed(np.array([halo_hernquist[:,0], halo_hernquist[:,1], halo_hernquist[:,2]]).T,\n",
    "                      halo_hernquist[:,3])"
   ]
  },
  {
   "cell_type": "code",
   "execution_count": 166,
   "metadata": {
    "collapsed": true
   },
   "outputs": [],
   "source": [
    "r, rho_nfw = rho_enclosed(np.array([halo_nfw[:,0], halo_nfw[:,1], halo_nfw[:,2]]).T,\n",
    "                      halo_nfw[:,3])"
   ]
  },
  {
   "cell_type": "code",
   "execution_count": 174,
   "metadata": {},
   "outputs": [
    {
     "data": {
      "text/plain": [
       "(0, 100)"
      ]
     },
     "execution_count": 174,
     "metadata": {},
     "output_type": "execute_result"
    },
    {
     "data": {
      "image/png": "[encoded data removed]",
      "text/plain": [
       "<matplotlib.figure.Figure at 0x7f47731605f8>"
      ]
     },
     "metadata": {},
     "output_type": "display_data"
    }
   ],
   "source": [
    "semilogy(r, rho)\n",
    "semilogy(r, rho_nfw)\n",
    "xlim(0, 100)"
   ]
  },
  {
   "cell_type": "code",
   "execution_count": 175,
   "metadata": {
    "collapsed": true
   },
   "outputs": [],
   "source": [
    "def hernquist_density(M, r, a):\n",
    "    return a*M / (r*(1+r/a)**3)\n"
   ]
  },
  {
   "cell_type": "code",
   "execution_count": 176,
   "metadata": {},
   "outputs": [
    {
     "data": {
      "text/plain": [
       "array([  3.35383965e+02,   2.00671875e+02,   1.24582862e+02,\n",
       "         7.58306467e+01,   4.53660365e+01,   2.77101554e+01,\n",
       "         1.64652017e+01,   1.00204036e+01,   6.31484674e+00,\n",
       "         3.95511911e+00,   2.32035084e+00,   1.38720700e+00,\n",
       "         8.87220567e-01,   5.45026103e-01,   3.25618330e-01,\n",
       "         1.99959957e-01,   1.10510921e-01,   7.17836918e-02,\n",
       "         4.11737286e-02,   2.43344872e-02,   1.42230353e-02,\n",
       "         8.92341373e-03,   5.18357740e-03,   3.16650066e-03,\n",
       "         1.91334536e-03,   1.15600583e-03,   6.76070675e-04,\n",
       "         4.16110599e-04,   0.00000000e+00])"
      ]
     },
     "execution_count": 176,
     "metadata": {},
     "output_type": "execute_result"
    }
   ],
   "source": [
    "rho"
   ]
  },
  {
   "cell_type": "code",
   "execution_count": 177,
   "metadata": {},
   "outputs": [
    {
     "data": {
      "text/plain": [
       "array([   1.        ,    1.17876863,    1.38949549,    1.63789371,\n",
       "          1.93069773,    2.27584593,    2.6826958 ,    3.16227766,\n",
       "          3.72759372,    4.39397056,    5.17947468,    6.1054023 ,\n",
       "          7.19685673,    8.48342898,   10.        ,   11.78768635,\n",
       "         13.89495494,   16.37893707,   19.30697729,   22.75845926,\n",
       "         26.82695795,   31.6227766 ,   37.2759372 ,   43.93970561,\n",
       "         51.79474679,   61.05402297,   71.9685673 ,   84.83428982,  100.        ])"
      ]
     },
     "execution_count": 177,
     "metadata": {},
     "output_type": "execute_result"
    }
   ],
   "source": [
    "r"
   ]
  },
  {
   "cell_type": "code",
   "execution_count": 178,
   "metadata": {},
   "outputs": [
    {
     "data": {
      "text/plain": [
       "array([  7.51314801e+00,   6.07280765e+00,   4.87112636e+00,\n",
       "         3.87338911e+00,   3.04991816e+00,   2.37521461e+00,\n",
       "         1.82723264e+00,   1.38677772e+00,   1.03702249e+00,\n",
       "         7.63134393e-01,   5.52006332e-01,   3.92076653e-01,\n",
       "         2.73218387e-01,   1.86672757e-01,   1.25000000e-01,\n",
       "         8.20234599e-02,   5.27502120e-02,   3.32615444e-02,\n",
       "         2.05765534e-02,   1.24993302e-02,   7.46330231e-03,\n",
       "         4.38537621e-03,   2.53893152e-03,   1.45016407e-03,\n",
       "         8.18200263e-04,   4.56582959e-04,   2.52298757e-04,\n",
       "         1.38207745e-04,   7.51314801e-05])"
      ]
     },
     "execution_count": 178,
     "metadata": {},
     "output_type": "execute_result"
    }
   ],
   "source": [
    "rho_analytic"
   ]
  },
  {
   "cell_type": "code",
   "execution_count": 179,
   "metadata": {
    "collapsed": true
   },
   "outputs": [],
   "source": [
    "rho_analytic = hernquist_density(1, r, 10)"
   ]
  },
  {
   "cell_type": "code",
   "execution_count": 181,
   "metadata": {},
   "outputs": [
    {
     "data": {
      "text/plain": [
       "[<matplotlib.lines.Line2D at 0x7f47623fcb00>]"
      ]
     },
     "execution_count": 181,
     "metadata": {},
     "output_type": "execute_result"
    },
    {
     "data": {
      "image/png": "[encoded data removed]",
      "text/plain": [
       "<matplotlib.figure.Figure at 0x7f4760b884a8>"
      ]
     },
     "metadata": {},
     "output_type": "display_data"
    }
   ],
   "source": [
    "loglog(r, rho)\n",
    "loglog(r, rho_analytic)\n",
    "loglog(r, rho_nfw)"
   ]
  },
  {
   "cell_type": "code",
   "execution_count": null,
   "metadata": {
    "collapsed": true
   },
   "outputs": [],
   "source": []
  }
 ],
 "metadata": {
  "kernelspec": {
   "display_name": "Python 3",
   "language": "python",
   "name": "python3"
  },
  "language_info": {
   "codemirror_mode": {
    "name": "ipython",
    "version": 3
   },
   "file_extension": ".py",
   "mimetype": "text/x-python",
   "name": "python",
   "nbconvert_exporter": "python",
   "pygments_lexer": "ipython3",
   "version": "3.5.2"
  }
 },
 "nbformat": 4,
 "nbformat_minor": 2
}
