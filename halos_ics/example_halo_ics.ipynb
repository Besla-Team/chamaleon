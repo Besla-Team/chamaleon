{
 "cells": [
  {
   "cell_type": "code",
   "execution_count": 126,
   "metadata": {},
   "outputs": [
    {
     "name": "stdout",
     "output_type": "stream",
     "text": [
      "Populating the interactive namespace from numpy and matplotlib\n"
     ]
    }
   ],
   "source": [
    "%pylab inline\n",
    "import jellyfish"
   ]
  },
  {
   "cell_type": "code",
   "execution_count": 153,
   "metadata": {
    "collapsed": true
   },
   "outputs": [],
   "source": [
    "halo_hernquist = np.genfromtxt('../halos_ics/test_hernquist.txt')"
   ]
  },
  {
   "cell_type": "code",
   "execution_count": 154,
   "metadata": {},
   "outputs": [],
   "source": [
    "def rho_enclosed(pos, mass, rmin=0, rmax=100, nbins=30):\n",
    "    \"\"\"\n",
    "    Compute the density profile of a given galaxy component\n",
    "    Input:\n",
    "    ------\n",
    "    rmin : float\n",
    "        Minimum radius to compute the density profile (default=0).\n",
    "    rmax : float\n",
    "        Maximum radius to compute the density profile (default=300)\n",
    "    nbins : int\n",
    "        Number of radial bins to compute the density profile.\n",
    "    Output:\n",
    "    ------\n",
    "    r : numpy 1D array.\n",
    "        Array with the radial bins.\n",
    "    rho : numpy array.\n",
    "        Array with the density in each radial bin.\n",
    "    \"\"\"\n",
    "    r_pos = np.sqrt(pos[:,0]**2 + pos[:,1]**2 + pos[:,2]**2)\n",
    "\n",
    "    r = np.logspace(0, np.log10(rmax), nbins-1)\n",
    "\n",
    "    rho = np.zeros(nbins-1)\n",
    "\n",
    "    # Loop over the radial bins.\n",
    "    for i in range(1, len(r)):\n",
    "        indexh = np.where((r_pos<r[i]) & (r_pos>r[i-1]))[0]\n",
    "        rho[i-1]=(3*(len(indexh)*mass[0]))/(4*np.pi*r[i]**3)\n",
    "    return r, rho"
   ]
  },
  {
   "cell_type": "code",
   "execution_count": 155,
   "metadata": {},
   "outputs": [],
   "source": [
    "r, rho = rho_enclosed(np.array([halo_hernquist[:,0], halo_hernquist[:,1], halo_hernquist[:,2]]).T,\n",
    "                      halo_hernquist[:,3])"
   ]
  },
  {
   "cell_type": "code",
   "execution_count": 156,
   "metadata": {},
   "outputs": [
    {
     "data": {
      "text/plain": [
       "(0, 100)"
      ]
     },
     "execution_count": 156,
     "metadata": {},
     "output_type": "execute_result"
    },
    {
     "data": {
      "image/png": "[encoded data removed]",
      "text/plain": [
       "<matplotlib.figure.Figure at 0x7f8340d246a0>"
      ]
     },
     "metadata": {},
     "output_type": "display_data"
    }
   ],
   "source": [
    "semilogy(r, rho)\n",
    "xlim(0, 100)"
   ]
  },
  {
   "cell_type": "code",
   "execution_count": 160,
   "metadata": {},
   "outputs": [],
   "source": [
    "def hernquist_density(M, r, a):\n",
    "    return M*a / (r*(r+a)**3.)"
   ]
  },
  {
   "cell_type": "code",
   "execution_count": 161,
   "metadata": {},
   "outputs": [],
   "source": [
    "rho_analytic = hernquist_density(1, r, 10)"
   ]
  },
  {
   "cell_type": "code",
   "execution_count": 162,
   "metadata": {},
   "outputs": [
    {
     "data": {
      "text/plain": [
       "[<matplotlib.lines.Line2D at 0x7f834008d358>]"
      ]
     },
     "execution_count": 162,
     "metadata": {},
     "output_type": "execute_result"
    },
    {
     "data": {
      "image/png": "[encoded data removed]",
      "text/plain": [
       "<matplotlib.figure.Figure at 0x7f834128a390>"
      ]
     },
     "metadata": {},
     "output_type": "display_data"
    }
   ],
   "source": [
    "semilogy(r, rho)\n",
    "semilogy(r, rho_analytic)"
   ]
  },
  {
   "cell_type": "code",
   "execution_count": null,
   "metadata": {
    "collapsed": true
   },
   "outputs": [],
   "source": []
  }
 ],
 "metadata": {
  "kernelspec": {
   "display_name": "Python 3",
   "language": "python",
   "name": "python3"
  },
  "language_info": {
   "codemirror_mode": {
    "name": "ipython",
    "version": 3
   },
   "file_extension": ".py",
   "mimetype": "text/x-python",
   "name": "python",
   "nbconvert_exporter": "python",
   "pygments_lexer": "ipython3",
   "version": "3.5.2"
  }
 },
 "nbformat": 4,
 "nbformat_minor": 2
}
